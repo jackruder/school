{
 "cells": [
  {
   "cell_type": "code",
   "execution_count": 1,
   "id": "2a3b008c",
   "metadata": {},
   "outputs": [
    {
     "name": "stdout",
     "output_type": "stream",
     "text": [
      " ╭─────────────────────────────────────────────────╮\n",
      " │ I'm building Herbie's default config file.      │\n",
      " ╰╥────────────────────────────────────────────────╯\n",
      " 👷🏻‍♂️\n",
      " ╭─────────────────────────────────────────────────╮\n",
      " │ You're ready to go.                             │\n",
      " │ You may edit the config file here:              │\n",
      " │ /home/jackman/.config/herbie/config.toml        │\n",
      " ╰╥────────────────────────────────────────────────╯\n",
      " 👷🏻‍♂️\n",
      "✅ Found ┊ model=hrrr ┊ \u001b[3mproduct=sfc\u001b[0m ┊ \u001b[38;2;41;130;13m2021-Jul-01 12:00 UTC\u001b[92m F06\u001b[0m ┊ \u001b[38;2;255;153;0m\u001b[3mGRIB2 @ aws\u001b[0m ┊ \u001b[38;2;255;153;0m\u001b[3mIDX @ aws\u001b[0m\n"
     ]
    }
   ],
   "source": [
    "from herbie import Herbie\n",
    "H = Herbie('2021-07-01 12:00', model='hrrr', product='sfc', fxx=6)"
   ]
  },
  {
   "cell_type": "code",
   "execution_count": 2,
   "id": "4bda9075",
   "metadata": {},
   "outputs": [
    {
     "ename": "AttributeError",
     "evalue": "'Herbie' object has no attribute 'tellmeeverything'",
     "output_type": "error",
     "traceback": [
      "\u001b[0;31m---------------------------------------------------------------------------\u001b[0m",
      "\u001b[0;31mAttributeError\u001b[0m                            Traceback (most recent call last)",
      "Cell \u001b[0;32mIn [2], line 1\u001b[0m\n\u001b[0;32m----> 1\u001b[0m \u001b[43mH\u001b[49m\u001b[38;5;241;43m.\u001b[39;49m\u001b[43mtellmeeverything\u001b[49m()\n",
      "\u001b[0;31mAttributeError\u001b[0m: 'Herbie' object has no attribute 'tellmeeverything'"
     ]
    }
   ],
   "source": [
    "H.tellmeeverything()"
   ]
  },
  {
   "cell_type": "code",
   "execution_count": null,
   "id": "d745818d",
   "metadata": {},
   "outputs": [],
   "source": []
  }
 ],
 "metadata": {
  "kernelspec": {
   "display_name": "Python 3 (ipykernel)",
   "language": "python",
   "name": "python3"
  },
  "language_info": {
   "codemirror_mode": {
    "name": "ipython",
    "version": 3
   },
   "file_extension": ".py",
   "mimetype": "text/x-python",
   "name": "python",
   "nbconvert_exporter": "python",
   "pygments_lexer": "ipython3",
   "version": "3.10.6"
  }
 },
 "nbformat": 4,
 "nbformat_minor": 5
}
